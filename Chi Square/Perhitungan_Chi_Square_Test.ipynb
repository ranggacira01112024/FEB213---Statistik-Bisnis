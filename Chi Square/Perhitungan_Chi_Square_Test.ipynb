{
  "nbformat": 4,
  "nbformat_minor": 0,
  "metadata": {
    "colab": {
      "provenance": []
    },
    "kernelspec": {
      "name": "python3",
      "display_name": "Python 3"
    },
    "language_info": {
      "name": "python"
    }
  },
  "cells": [
    {
      "cell_type": "code",
      "execution_count": 1,
      "metadata": {
        "colab": {
          "base_uri": "https://localhost:8080/"
        },
        "id": "G-WQQoRsqkAh",
        "outputId": "bbd88e8e-7647-48b2-8686-08d9fe324ce4"
      },
      "outputs": [
        {
          "output_type": "stream",
          "name": "stdout",
          "text": [
            "Nilai Chi-Square: 41.91505686435219\n",
            "Nilai expected:\n",
            "[[66.01631702 60.81818182 71.21445221 24.95104895]\n",
            " [60.98368298 56.18181818 65.78554779 23.04895105]]\n"
          ]
        }
      ],
      "source": [
        "import numpy as np\n",
        "\n",
        "# Data observasi\n",
        "observed = np.array([\n",
        "    [80, 65, 42, 36],  # Kota\n",
        "    [47, 52, 95, 12]   # Desa\n",
        "])\n",
        "\n",
        "# Hitung total baris dan kolom\n",
        "row_totals = observed.sum(axis=1)\n",
        "col_totals = observed.sum(axis=0)\n",
        "total = observed.sum()\n",
        "\n",
        "# Hitung nilai expected\n",
        "expected = np.outer(row_totals, col_totals) / total\n",
        "\n",
        "# Hitung Chi-square\n",
        "chi_square = np.sum((observed - expected) ** 2 / expected)\n",
        "\n",
        "# Print hasil\n",
        "print(\"Nilai Chi-Square:\", chi_square)\n",
        "print(\"Nilai expected:\")\n",
        "print(expected)\n",
        "\n",
        "# Hasil: Nilai Chi-Square ≈ 64.76"
      ]
    }
  ]
}